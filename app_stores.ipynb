{
 "cells": [
  {
   "cell_type": "markdown",
   "metadata": {},
   "source": [
    "## App Profiles for the iOS App Store and Google Play Markets ##\n",
    "\n",
    "The goal of this project is to better understand what types of mobile applications are likely to attract more users by analyzing data about apps on the iOS App Store and Google Play. The two data sets we will be analyzing can be found on Kaggle, which I've linked."
   ]
  },
  {
   "cell_type": "code",
   "execution_count": 1,
   "metadata": {
    "collapsed": false
   },
   "outputs": [],
   "source": [
    "import csv \n",
    "open_file_1 = open('AppleStore.csv')\n",
    "open_file_2 = open('googleplaystore.csv')\n",
    "read_file_1 = csv.reader(open_file_1)\n",
    "read_file_2 = csv.reader(open_file_2)\n",
    "app_store_data = list(read_file_1)\n",
    "google_play_data = list(read_file_2)\n",
    "\n",
    "def explore_data(dataset, start, end, rows_and_columns = True):\n",
    "    dataset_slice = dataset[start:end]    \n",
    "    for row in dataset_slice:\n",
    "        print(row)\n",
    "        print('\\n') # adds a new empty line after each row\n",
    "\n",
    "    if rows_and_columns:\n",
    "        print('Number of rows:', len(dataset[1:])) # without header row\n",
    "        print('Number of columns:', len(dataset[0]))"
   ]
  },
  {
   "cell_type": "markdown",
   "metadata": {},
   "source": [
    "We will now use the explore function above to examine the first 3 rows of each data set."
   ]
  },
  {
   "cell_type": "code",
   "execution_count": 2,
   "metadata": {
    "collapsed": false
   },
   "outputs": [
    {
     "name": "stdout",
     "output_type": "stream",
     "text": [
      "['id', 'track_name', 'size_bytes', 'currency', 'price', 'rating_count_tot', 'rating_count_ver', 'user_rating', 'user_rating_ver', 'ver', 'cont_rating', 'prime_genre', 'sup_devices.num', 'ipadSc_urls.num', 'lang.num', 'vpp_lic']\n",
      "\n",
      "\n",
      "['284882215', 'Facebook', '389879808', 'USD', '0.0', '2974676', '212', '3.5', '3.5', '95.0', '4+', 'Social Networking', '37', '1', '29', '1']\n",
      "\n",
      "\n",
      "['389801252', 'Instagram', '113954816', 'USD', '0.0', '2161558', '1289', '4.5', '4.0', '10.23', '12+', 'Photo & Video', '37', '0', '29', '1']\n",
      "\n",
      "\n",
      "Number of rows: 7197\n",
      "Number of columns: 16\n"
     ]
    }
   ],
   "source": [
    "explore_data(app_store_data, 0, 3)"
   ]
  },
  {
   "cell_type": "code",
   "execution_count": 3,
   "metadata": {
    "collapsed": false
   },
   "outputs": [
    {
     "name": "stdout",
     "output_type": "stream",
     "text": [
      "['App', 'Category', 'Rating', 'Reviews', 'Size', 'Installs', 'Type', 'Price', 'Content Rating', 'Genres', 'Last Updated', 'Current Ver', 'Android Ver']\n",
      "\n",
      "\n",
      "['Photo Editor & Candy Camera & Grid & ScrapBook', 'ART_AND_DESIGN', '4.1', '159', '19M', '10,000+', 'Free', '0', 'Everyone', 'Art & Design', 'January 7, 2018', '1.0.0', '4.0.3 and up']\n",
      "\n",
      "\n",
      "['Coloring book moana', 'ART_AND_DESIGN', '3.9', '967', '14M', '500,000+', 'Free', '0', 'Everyone', 'Art & Design;Pretend Play', 'January 15, 2018', '2.0.0', '4.0.3 and up']\n",
      "\n",
      "\n",
      "Number of rows: 10841\n",
      "Number of columns: 13\n"
     ]
    }
   ],
   "source": [
    "explore_data(google_play_data, 0, 3)"
   ]
  },
  {
   "cell_type": "markdown",
   "metadata": {},
   "source": [
    "Now that we have an idea of what the data looks like, we will want to perform some data cleaning in order to prepare the data to fit the scope of our project as well as for better analysis.\n",
    "\n",
    "To begin, there are some notes about errors in the discussion section for the Google Play data set on Kaggle. We can verify if this is the case and remove them if necessary."
   ]
  },
  {
   "cell_type": "code",
   "execution_count": 4,
   "metadata": {
    "collapsed": false
   },
   "outputs": [
    {
     "data": {
      "text/plain": [
       "['Life Made WI-Fi Touchscreen Photo Frame',\n",
       " '1.9',\n",
       " '19',\n",
       " '3.0M',\n",
       " '1,000+',\n",
       " 'Free',\n",
       " '0',\n",
       " 'Everyone',\n",
       " '',\n",
       " 'February 11, 2018',\n",
       " '1.0.19',\n",
       " '4.0 and up']"
      ]
     },
     "execution_count": 4,
     "metadata": {},
     "output_type": "execute_result"
    }
   ],
   "source": [
    "google_play_data[10473]"
   ]
  },
  {
   "cell_type": "markdown",
   "metadata": {},
   "source": [
    "Here you can see that the number of columns is 12, when it should be 13 as listed by the `Explore_Data()` function. \n",
    "We will delete this row from our data set."
   ]
  },
  {
   "cell_type": "code",
   "execution_count": 5,
   "metadata": {
    "collapsed": false
   },
   "outputs": [],
   "source": [
    "del google_play_data[10473]"
   ]
  },
  {
   "cell_type": "markdown",
   "metadata": {},
   "source": [
    "The discussion also mentions that some apps have duplicate entries. We will now check both data sets to see if this is the case."
   ]
  },
  {
   "cell_type": "code",
   "execution_count": 6,
   "metadata": {
    "collapsed": false
   },
   "outputs": [
    {
     "name": "stdout",
     "output_type": "stream",
     "text": [
      "1181 duplicate apps\n",
      "9660 unique apps\n"
     ]
    }
   ],
   "source": [
    "duplicate_play_apps = []\n",
    "unique_play_apps = []\n",
    "\n",
    "for app in google_play_data:\n",
    "    app_name = app[0]\n",
    "    if app_name in unique_play_apps:\n",
    "        duplicate_play_apps.append(app_name)\n",
    "    else:\n",
    "        unique_play_apps.append(app_name)\n",
    "        \n",
    "print(str(len(duplicate_play_apps)) + ' duplicate apps')\n",
    "print(str(len(unique_play_apps)) + ' unique apps')"
   ]
  },
  {
   "cell_type": "markdown",
   "metadata": {},
   "source": [
    "The code above shows that there are 1181 duplicate apps in the Google Play data set."
   ]
  },
  {
   "cell_type": "code",
   "execution_count": 7,
   "metadata": {
    "collapsed": false
   },
   "outputs": [
    {
     "name": "stdout",
     "output_type": "stream",
     "text": [
      "0 duplicate apps\n",
      "7198 unique apps\n"
     ]
    }
   ],
   "source": [
    "duplicate_ios_apps = []\n",
    "unique_ios_apps = []\n",
    "\n",
    "for app in app_store_data:\n",
    "    app_name = app[0]\n",
    "    if app_name in unique_ios_apps:\n",
    "        duplicate_ios_apps.append(app_name)\n",
    "    else:\n",
    "        unique_ios_apps.append(app_name)\n",
    "\n",
    "print(str(len(duplicate_ios_apps)) + ' duplicate apps')\n",
    "print(str(len(unique_ios_apps)) + ' unique apps')"
   ]
  },
  {
   "cell_type": "markdown",
   "metadata": {},
   "source": [
    "There aren't any duplicates in the iOS App Store data set."
   ]
  },
  {
   "cell_type": "markdown",
   "metadata": {},
   "source": [
    "Lets explore some of the duplicates in the Google Play Store data set:"
   ]
  },
  {
   "cell_type": "code",
   "execution_count": 8,
   "metadata": {
    "collapsed": false,
    "scrolled": true
   },
   "outputs": [
    {
     "name": "stdout",
     "output_type": "stream",
     "text": [
      "['Box', 'Box', 'Google Ads', 'Google My Business', 'Google My Business', 'Quick PDF Scanner + OCR FREE', 'Slack', 'ZOOM Cloud Meetings', 'Zenefits', 'join.me - Simple Meetings']\n"
     ]
    }
   ],
   "source": [
    "print(sorted(duplicate_play_apps[:10]))"
   ]
  },
  {
   "cell_type": "markdown",
   "metadata": {},
   "source": [
    "Just from looking at the first 10 items we can see that 'Box' is duplicated.\n",
    "\n",
    "Looking at that specific app further:"
   ]
  },
  {
   "cell_type": "code",
   "execution_count": 9,
   "metadata": {
    "collapsed": false
   },
   "outputs": [
    {
     "name": "stdout",
     "output_type": "stream",
     "text": [
      "['App', 'Category', 'Rating', 'Reviews', 'Size', 'Installs', 'Type', 'Price', 'Content Rating', 'Genres', 'Last Updated', 'Current Ver', 'Android Ver']\n",
      "['Box', 'BUSINESS', '4.2', '159872', 'Varies with device', '10,000,000+', 'Free', '0', 'Everyone', 'Business', 'July 31, 2018', 'Varies with device', 'Varies with device']\n",
      "['Box', 'BUSINESS', '4.2', '159872', 'Varies with device', '10,000,000+', 'Free', '0', 'Everyone', 'Business', 'July 31, 2018', 'Varies with device', 'Varies with device']\n",
      "['Box', 'BUSINESS', '4.2', '159872', 'Varies with device', '10,000,000+', 'Free', '0', 'Everyone', 'Business', 'July 31, 2018', 'Varies with device', 'Varies with device']\n"
     ]
    }
   ],
   "source": [
    "print(google_play_data[0])\n",
    "for app in google_play_data:\n",
    "    app_name = app[0]\n",
    "    if app_name == 'Box':\n",
    "        print(app)"
   ]
  },
  {
   "cell_type": "markdown",
   "metadata": {},
   "source": [
    "When removing dupicates, we will keep the one that has the most reviews. To do this, we will first create a dictionary with key-value pairs cooresponding to the app name and entry with the highest number of reviews."
   ]
  },
  {
   "cell_type": "code",
   "execution_count": 10,
   "metadata": {
    "collapsed": false
   },
   "outputs": [],
   "source": [
    "reviews_max = {}\n",
    "\n",
    "for app in google_play_data[1:]:\n",
    "    app_name = app[0]\n",
    "    n_reviews = float(app[3]) # we need to convert to float from string\n",
    "    if app_name in reviews_max and reviews_max[app_name] < n_reviews:\n",
    "        reviews_max[app_name] = n_reviews\n",
    "    elif app_name not in reviews_max:\n",
    "        reviews_max[app_name] = n_reviews"
   ]
  },
  {
   "cell_type": "markdown",
   "metadata": {},
   "source": [
    "We should verify that the reviews_max dictionary has the correct amount of entries:\n"
   ]
  },
  {
   "cell_type": "code",
   "execution_count": 11,
   "metadata": {
    "collapsed": false
   },
   "outputs": [
    {
     "name": "stdout",
     "output_type": "stream",
     "text": [
      "Expected: 9659\n",
      "Actual: 9659\n"
     ]
    }
   ],
   "source": [
    "print('Expected:', len(google_play_data[1:]) - 1181) # 1181 is the number of duplicates found earlier.\n",
    "print('Actual:', len(reviews_max))"
   ]
  },
  {
   "cell_type": "markdown",
   "metadata": {},
   "source": [
    "Now we will remove the duplicate rows:"
   ]
  },
  {
   "cell_type": "code",
   "execution_count": 12,
   "metadata": {
    "collapsed": false
   },
   "outputs": [
    {
     "data": {
      "text/plain": [
       "9659"
      ]
     },
     "execution_count": 12,
     "metadata": {},
     "output_type": "execute_result"
    }
   ],
   "source": [
    "google_play_clean = []\n",
    "already_added = []\n",
    "\n",
    "for app in google_play_data[1:]:\n",
    "    app_name = app[0]\n",
    "    n_reviews = float(app[3])\n",
    "    if n_reviews == reviews_max[app_name] and app_name not in already_added: # Check against the dictionary above\n",
    "        google_play_clean.append(app)\n",
    "        already_added.append(app_name)\n",
    "        \n",
    "len(google_play_clean)"
   ]
  },
  {
   "cell_type": "markdown",
   "metadata": {
    "collapsed": false
   },
   "source": [
    "Verifying the length of the `google_play_clean` list shows that it has the correct number of entries that we expected."
   ]
  },
  {
   "cell_type": "markdown",
   "metadata": {
    "collapsed": true
   },
   "source": [
    "## Removing Non-English Apps ##"
   ]
  },
  {
   "cell_type": "code",
   "execution_count": 13,
   "metadata": {
    "collapsed": true
   },
   "outputs": [],
   "source": [
    "def english_detection (a_string):\n",
    "    count = 0\n",
    "    for character in a_string:\n",
    "        if ord(character) > 127: # End of English ASCII range\n",
    "            count += 1\n",
    "            \n",
    "    if count > 3:\n",
    "        return False\n",
    "    else: \n",
    "        return True"
   ]
  },
  {
   "cell_type": "markdown",
   "metadata": {},
   "source": [
    "The function above will take in a string and detect if it has more than three characters that fall outside of the English ASCII range. Choosing three is arbitrary, but this will be used to remove apps that are most likely not in English from our data set."
   ]
  },
  {
   "cell_type": "code",
   "execution_count": 14,
   "metadata": {
    "collapsed": false
   },
   "outputs": [
    {
     "data": {
      "text/plain": [
       "45"
      ]
     },
     "execution_count": 14,
     "metadata": {},
     "output_type": "execute_result"
    }
   ],
   "source": [
    "google_play_english = []\n",
    "for app in google_play_clean:\n",
    "    app_name = app[0]\n",
    "    if english_detection(app_name) == True:\n",
    "        google_play_english.append(app)\n",
    "\n",
    "len(google_play_clean) - len(google_play_english)"
   ]
  },
  {
   "cell_type": "code",
   "execution_count": 15,
   "metadata": {
    "collapsed": false
   },
   "outputs": [
    {
     "data": {
      "text/plain": [
       "1014"
      ]
     },
     "execution_count": 15,
     "metadata": {},
     "output_type": "execute_result"
    }
   ],
   "source": [
    "ios_english = []\n",
    "for app in app_store_data[1:]:\n",
    "    app_name = app[1]\n",
    "    if english_detection(app_name) == True:\n",
    "        ios_english.append(app)\n",
    "    \n",
    "len(app_store_data[1:]) - len(ios_english)"
   ]
  },
  {
   "cell_type": "markdown",
   "metadata": {
    "collapsed": true
   },
   "source": [
    "There appears to be 45 apps that we filtered out as being non-English from the Google Play Store data set and 1014 from the iOS app store data set."
   ]
  },
  {
   "cell_type": "markdown",
   "metadata": {},
   "source": [
    "## Isolating Free Apps ##"
   ]
  },
  {
   "cell_type": "code",
   "execution_count": 16,
   "metadata": {
    "collapsed": false
   },
   "outputs": [
    {
     "name": "stdout",
     "output_type": "stream",
     "text": [
      "Google Play Apps: 8864\n",
      "iOS App Store Apps: 3222\n"
     ]
    }
   ],
   "source": [
    "google_play_free_apps = []\n",
    "app_store_free_apps = []\n",
    "\n",
    "for app in google_play_english:\n",
    "    price = app[7]\n",
    "    if price == '0':\n",
    "        google_play_free_apps.append(app)\n",
    "        \n",
    "for app in ios_english:\n",
    "    price = app[4]\n",
    "    if price == '0.0':\n",
    "        app_store_free_apps.append(app)\n",
    "        \n",
    "print('Google Play Apps: ' + str(len(google_play_free_apps)))\n",
    "print('iOS App Store Apps: ' + str(len(app_store_free_apps)))\n",
    "\n",
    "final_google_data = google_play_free_apps\n",
    "final_ios_data = app_store_free_apps"
   ]
  },
  {
   "cell_type": "markdown",
   "metadata": {},
   "source": [
    "Here we isolated the free apps by looping through both data sets and appending those that are listed as costing zero to two new lists that will be the final lists for analysis. The final number of apps for each of the data sets are also listed."
   ]
  },
  {
   "cell_type": "markdown",
   "metadata": {},
   "source": [
    "# Analysis #"
   ]
  },
  {
   "cell_type": "markdown",
   "metadata": {},
   "source": [
    "So far, we have removed inaccurate data, removed duplicate app entries, removed non-English apps, and isolated the apps that are free. We are now in a better position to analyze the data to determine the kinds of apps that will most likely attract the most users."
   ]
  },
  {
   "cell_type": "code",
   "execution_count": 17,
   "metadata": {
    "collapsed": false
   },
   "outputs": [
    {
     "name": "stdout",
     "output_type": "stream",
     "text": [
      "['Photo Editor & Candy Camera & Grid & ScrapBook', 'ART_AND_DESIGN', '4.1', '159', '19M', '10,000+', 'Free', '0', 'Everyone', 'Art & Design', 'January 7, 2018', '1.0.0', '4.0.3 and up']\n",
      "\n",
      "\n",
      "['U Launcher Lite – FREE Live Cool Themes, Hide Apps', 'ART_AND_DESIGN', '4.7', '87510', '8.7M', '5,000,000+', 'Free', '0', 'Everyone', 'Art & Design', 'August 1, 2018', '1.2.4', '4.0.3 and up']\n",
      "\n",
      "\n",
      "['Sketch - Draw & Paint', 'ART_AND_DESIGN', '4.5', '215644', '25M', '50,000,000+', 'Free', '0', 'Teen', 'Art & Design', 'June 8, 2018', 'Varies with device', '4.2 and up']\n",
      "\n",
      "\n",
      "['Pixel Draw - Number Art Coloring Book', 'ART_AND_DESIGN', '4.3', '967', '2.8M', '100,000+', 'Free', '0', 'Everyone', 'Art & Design;Creativity', 'June 20, 2018', '1.1', '4.4 and up']\n",
      "\n",
      "\n",
      "['Paper flowers instructions', 'ART_AND_DESIGN', '4.4', '167', '5.6M', '50,000+', 'Free', '0', 'Everyone', 'Art & Design', 'March 26, 2017', '1.0', '2.3 and up']\n",
      "\n",
      "\n",
      "Number of rows: 8863\n",
      "Number of columns: 13\n",
      "['284882215', 'Facebook', '389879808', 'USD', '0.0', '2974676', '212', '3.5', '3.5', '95.0', '4+', 'Social Networking', '37', '1', '29', '1']\n",
      "\n",
      "\n",
      "['389801252', 'Instagram', '113954816', 'USD', '0.0', '2161558', '1289', '4.5', '4.0', '10.23', '12+', 'Photo & Video', '37', '0', '29', '1']\n",
      "\n",
      "\n",
      "['529479190', 'Clash of Clans', '116476928', 'USD', '0.0', '2130805', '579', '4.5', '4.5', '9.24.12', '9+', 'Games', '38', '5', '18', '1']\n",
      "\n",
      "\n",
      "['420009108', 'Temple Run', '65921024', 'USD', '0.0', '1724546', '3842', '4.5', '4.0', '1.6.2', '9+', 'Games', '40', '5', '1', '1']\n",
      "\n",
      "\n",
      "['284035177', 'Pandora - Music & Radio', '130242560', 'USD', '0.0', '1126879', '3594', '4.0', '4.5', '8.4.1', '12+', 'Music', '37', '4', '1', '1']\n",
      "\n",
      "\n",
      "Number of rows: 3221\n",
      "Number of columns: 16\n"
     ]
    }
   ],
   "source": [
    "explore_data(final_google_data, 0, 5)\n",
    "explore_data(final_ios_data, 0, 5)"
   ]
  },
  {
   "cell_type": "markdown",
   "metadata": {},
   "source": [
    "To start, we can build a frequency table to determine which genres of apps are most popular."
   ]
  },
  {
   "cell_type": "code",
   "execution_count": 18,
   "metadata": {
    "collapsed": false
   },
   "outputs": [],
   "source": [
    "def freq_table (dataset, index):\n",
    "    frequency_table = {} \n",
    "    table_percentages = {}\n",
    "    total = 0\n",
    "    for row in dataset:\n",
    "        total += 1\n",
    "        column = row[index]\n",
    "        if column in frequency_table:\n",
    "            frequency_table[column] += 1\n",
    "        else:\n",
    "            frequency_table[column] = 1\n",
    "            \n",
    "    for key in frequency_table:\n",
    "        percentage = round((frequency_table[key] / total) * 100, 3)\n",
    "        table_percentages[key] = percentage \n",
    "            \n",
    "    return table_percentages\n",
    "\n",
    "def display_table(dataset, index):\n",
    "    table = freq_table(dataset, index)\n",
    "    table_display = []\n",
    "    for key in table:\n",
    "        key_val_as_tuple = (table[key], key)\n",
    "        table_display.append(key_val_as_tuple)\n",
    "        \n",
    "    table_sorted = sorted(table_display, reverse = True)\n",
    "    for entry in table_sorted:\n",
    "        print(entry[1], ':', entry[0])"
   ]
  },
  {
   "cell_type": "markdown",
   "metadata": {},
   "source": [
    "The `freq_table` function will be used to generate frequency tables that show percentages. The second function, `display_table`, will be used to display those percentages in descending order. "
   ]
  },
  {
   "cell_type": "code",
   "execution_count": 19,
   "metadata": {
    "collapsed": false
   },
   "outputs": [
    {
     "name": "stdout",
     "output_type": "stream",
     "text": [
      "Games : 58.163\n",
      "Entertainment : 7.883\n",
      "Photo & Video : 4.966\n",
      "Education : 3.662\n",
      "Social Networking : 3.29\n",
      "Shopping : 2.607\n",
      "Utilities : 2.514\n",
      "Sports : 2.142\n",
      "Music : 2.048\n",
      "Health & Fitness : 2.017\n",
      "Productivity : 1.738\n",
      "Lifestyle : 1.583\n",
      "News : 1.335\n",
      "Travel : 1.241\n",
      "Finance : 1.117\n",
      "Weather : 0.869\n",
      "Food & Drink : 0.807\n",
      "Reference : 0.559\n",
      "Business : 0.528\n",
      "Book : 0.435\n",
      "Navigation : 0.186\n",
      "Medical : 0.186\n",
      "Catalogs : 0.124\n"
     ]
    }
   ],
   "source": [
    "display_table(final_ios_data, 11)"
   ]
  },
  {
   "cell_type": "markdown",
   "metadata": {},
   "source": [
    "For the iOS App Store, it appears that Games is the most common genre of app, with a distant second being Entertainment. Most of the top app genres for the iOS app store tend to be more entertainment and creative oriented. "
   ]
  },
  {
   "cell_type": "code",
   "execution_count": 20,
   "metadata": {
    "collapsed": false
   },
   "outputs": [
    {
     "name": "stdout",
     "output_type": "stream",
     "text": [
      "FAMILY : 18.908\n",
      "GAME : 9.725\n",
      "TOOLS : 8.461\n",
      "BUSINESS : 4.592\n",
      "LIFESTYLE : 3.903\n",
      "PRODUCTIVITY : 3.892\n",
      "FINANCE : 3.7\n",
      "MEDICAL : 3.531\n",
      "SPORTS : 3.396\n",
      "PERSONALIZATION : 3.317\n",
      "COMMUNICATION : 3.238\n",
      "HEALTH_AND_FITNESS : 3.08\n",
      "PHOTOGRAPHY : 2.944\n",
      "NEWS_AND_MAGAZINES : 2.798\n",
      "SOCIAL : 2.662\n",
      "TRAVEL_AND_LOCAL : 2.335\n",
      "SHOPPING : 2.245\n",
      "BOOKS_AND_REFERENCE : 2.144\n",
      "DATING : 1.861\n",
      "VIDEO_PLAYERS : 1.794\n",
      "MAPS_AND_NAVIGATION : 1.399\n",
      "FOOD_AND_DRINK : 1.241\n",
      "EDUCATION : 1.162\n",
      "ENTERTAINMENT : 0.959\n",
      "LIBRARIES_AND_DEMO : 0.936\n",
      "AUTO_AND_VEHICLES : 0.925\n",
      "HOUSE_AND_HOME : 0.824\n",
      "WEATHER : 0.801\n",
      "EVENTS : 0.711\n",
      "PARENTING : 0.654\n",
      "ART_AND_DESIGN : 0.643\n",
      "COMICS : 0.62\n",
      "BEAUTY : 0.598\n"
     ]
    }
   ],
   "source": [
    "display_table(final_google_data, 1)"
   ]
  },
  {
   "cell_type": "code",
   "execution_count": 21,
   "metadata": {
    "collapsed": false
   },
   "outputs": [
    {
     "name": "stdout",
     "output_type": "stream",
     "text": [
      "Tools : 8.45\n",
      "Entertainment : 6.069\n",
      "Education : 5.347\n",
      "Business : 4.592\n",
      "Productivity : 3.892\n",
      "Lifestyle : 3.892\n",
      "Finance : 3.7\n",
      "Medical : 3.531\n",
      "Sports : 3.463\n",
      "Personalization : 3.317\n",
      "Communication : 3.238\n",
      "Action : 3.102\n",
      "Health & Fitness : 3.08\n",
      "Photography : 2.944\n",
      "News & Magazines : 2.798\n",
      "Social : 2.662\n",
      "Travel & Local : 2.324\n",
      "Shopping : 2.245\n",
      "Books & Reference : 2.144\n",
      "Simulation : 2.042\n",
      "Dating : 1.861\n",
      "Arcade : 1.85\n",
      "Video Players & Editors : 1.771\n",
      "Casual : 1.76\n",
      "Maps & Navigation : 1.399\n",
      "Food & Drink : 1.241\n",
      "Puzzle : 1.128\n",
      "Racing : 0.993\n",
      "Role Playing : 0.936\n",
      "Libraries & Demo : 0.936\n",
      "Auto & Vehicles : 0.925\n",
      "Strategy : 0.914\n",
      "House & Home : 0.824\n",
      "Weather : 0.801\n",
      "Events : 0.711\n",
      "Adventure : 0.677\n",
      "Comics : 0.609\n",
      "Beauty : 0.598\n",
      "Art & Design : 0.598\n",
      "Parenting : 0.496\n",
      "Card : 0.451\n",
      "Casino : 0.429\n",
      "Trivia : 0.417\n",
      "Educational;Education : 0.395\n",
      "Board : 0.384\n",
      "Educational : 0.372\n",
      "Education;Education : 0.338\n",
      "Word : 0.259\n",
      "Casual;Pretend Play : 0.237\n",
      "Music : 0.203\n",
      "Racing;Action & Adventure : 0.169\n",
      "Puzzle;Brain Games : 0.169\n",
      "Entertainment;Music & Video : 0.169\n",
      "Casual;Brain Games : 0.135\n",
      "Casual;Action & Adventure : 0.135\n",
      "Arcade;Action & Adventure : 0.124\n",
      "Action;Action & Adventure : 0.102\n",
      "Educational;Pretend Play : 0.09\n",
      "Simulation;Action & Adventure : 0.079\n",
      "Parenting;Education : 0.079\n",
      "Entertainment;Brain Games : 0.079\n",
      "Board;Brain Games : 0.079\n",
      "Parenting;Music & Video : 0.068\n",
      "Educational;Brain Games : 0.068\n",
      "Casual;Creativity : 0.068\n",
      "Art & Design;Creativity : 0.068\n",
      "Education;Pretend Play : 0.056\n",
      "Role Playing;Pretend Play : 0.045\n",
      "Education;Creativity : 0.045\n",
      "Role Playing;Action & Adventure : 0.034\n",
      "Puzzle;Action & Adventure : 0.034\n",
      "Entertainment;Creativity : 0.034\n",
      "Entertainment;Action & Adventure : 0.034\n",
      "Educational;Creativity : 0.034\n",
      "Educational;Action & Adventure : 0.034\n",
      "Education;Music & Video : 0.034\n",
      "Education;Brain Games : 0.034\n",
      "Education;Action & Adventure : 0.034\n",
      "Adventure;Action & Adventure : 0.034\n",
      "Video Players & Editors;Music & Video : 0.023\n",
      "Sports;Action & Adventure : 0.023\n",
      "Simulation;Pretend Play : 0.023\n",
      "Puzzle;Creativity : 0.023\n",
      "Music;Music & Video : 0.023\n",
      "Entertainment;Pretend Play : 0.023\n",
      "Casual;Education : 0.023\n",
      "Board;Action & Adventure : 0.023\n",
      "Video Players & Editors;Creativity : 0.011\n",
      "Trivia;Education : 0.011\n",
      "Travel & Local;Action & Adventure : 0.011\n",
      "Tools;Education : 0.011\n",
      "Strategy;Education : 0.011\n",
      "Strategy;Creativity : 0.011\n",
      "Strategy;Action & Adventure : 0.011\n",
      "Simulation;Education : 0.011\n",
      "Role Playing;Brain Games : 0.011\n",
      "Racing;Pretend Play : 0.011\n",
      "Puzzle;Education : 0.011\n",
      "Parenting;Brain Games : 0.011\n",
      "Music & Audio;Music & Video : 0.011\n",
      "Lifestyle;Pretend Play : 0.011\n",
      "Lifestyle;Education : 0.011\n",
      "Health & Fitness;Education : 0.011\n",
      "Health & Fitness;Action & Adventure : 0.011\n",
      "Entertainment;Education : 0.011\n",
      "Communication;Creativity : 0.011\n",
      "Comics;Creativity : 0.011\n",
      "Casual;Music & Video : 0.011\n",
      "Card;Action & Adventure : 0.011\n",
      "Books & Reference;Education : 0.011\n",
      "Art & Design;Pretend Play : 0.011\n",
      "Art & Design;Action & Adventure : 0.011\n",
      "Arcade;Pretend Play : 0.011\n",
      "Adventure;Education : 0.011\n"
     ]
    }
   ],
   "source": [
    "display_table(final_google_data, 9)"
   ]
  },
  {
   "cell_type": "markdown",
   "metadata": {},
   "source": [
    "There are two different columns that could be useful for determining the most common genres of apps in the Google Play store. In the Category column for the `final_google_data` data set, it looks like Family is the highest percentage with 18.908%. For the Genres column, Tools take up the most percentage with 8.45%."
   ]
  },
  {
   "cell_type": "markdown",
   "metadata": {},
   "source": [
    "## Most Popular Apps by Genre - iOS App Store ##"
   ]
  },
  {
   "cell_type": "markdown",
   "metadata": {},
   "source": [
    "We will now look at which genres have the most users by calculating the number of installs for each app genre. Since there isn't an installs column for the iOS App Store data set, we will need to determine this by use of the `rating_count_tot` column."
   ]
  },
  {
   "cell_type": "code",
   "execution_count": 22,
   "metadata": {
    "collapsed": false
   },
   "outputs": [
    {
     "name": "stdout",
     "output_type": "stream",
     "text": [
      "Catalogs : 4004.0\n",
      "Education : 7003.983050847458\n",
      "Book : 39758.5\n",
      "Business : 7491.117647058823\n",
      "Entertainment : 14029.830708661417\n",
      "Music : 57326.530303030304\n",
      "Shopping : 26919.690476190477\n",
      "Weather : 52279.892857142855\n",
      "Social Networking : 71548.34905660378\n",
      "Photo & Video : 28441.54375\n",
      "News : 21248.023255813954\n",
      "Utilities : 18684.456790123455\n",
      "Productivity : 21028.410714285714\n",
      "Travel : 28243.8\n",
      "Reference : 74942.11111111111\n",
      "Finance : 31467.944444444445\n",
      "Food & Drink : 33333.92307692308\n",
      "Games : 22788.6696905016\n",
      "Lifestyle : 16485.764705882353\n",
      "Navigation : 86090.33333333333\n",
      "Sports : 23008.898550724636\n",
      "Health & Fitness : 23298.015384615384\n",
      "Medical : 612.0\n"
     ]
    }
   ],
   "source": [
    "ios_genres = freq_table(final_ios_data, -5)\n",
    "\n",
    "for genre in ios_genres:\n",
    "    total = 0\n",
    "    len_genre = 0\n",
    "    for app in final_ios_data:\n",
    "        genre_app = app[-5]\n",
    "        if genre_app == genre:            \n",
    "            n_ratings = float(app[5])\n",
    "            total += n_ratings\n",
    "            len_genre += 1\n",
    "    avg_n_ratings = total / len_genre\n",
    "    print(genre, ':', avg_n_ratings)"
   ]
  },
  {
   "cell_type": "markdown",
   "metadata": {},
   "source": [
    "Navigation and Social Networking seem to be the most popular by installs. Exploring those further:"
   ]
  },
  {
   "cell_type": "code",
   "execution_count": 23,
   "metadata": {
    "collapsed": false
   },
   "outputs": [
    {
     "name": "stdout",
     "output_type": "stream",
     "text": [
      "Waze - GPS Navigation, Maps & Real-time Traffic : 345046\n",
      "Google Maps - Navigation & Transit : 154911\n",
      "Geocaching® : 12811\n",
      "CoPilot GPS – Car Navigation & Offline Maps : 3582\n",
      "ImmobilienScout24: Real Estate Search in Germany : 187\n",
      "Railway Route Search : 5\n"
     ]
    }
   ],
   "source": [
    "for app in final_ios_data:\n",
    "    if app[-5] == 'Navigation':\n",
    "        print(app[1], ':', app[5]) # printing name and number of ratings"
   ]
  },
  {
   "cell_type": "code",
   "execution_count": 24,
   "metadata": {
    "collapsed": false
   },
   "outputs": [
    {
     "name": "stdout",
     "output_type": "stream",
     "text": [
      "Facebook : 2974676\n",
      "Pinterest : 1061624\n",
      "Skype for iPhone : 373519\n",
      "Messenger : 351466\n",
      "Tumblr : 334293\n",
      "WhatsApp Messenger : 287589\n",
      "Kik : 260965\n",
      "ooVoo – Free Video Call, Text and Voice : 177501\n",
      "TextNow - Unlimited Text + Calls : 164963\n",
      "Viber Messenger – Text & Call : 164249\n",
      "Followers - Social Analytics For Instagram : 112778\n",
      "MeetMe - Chat and Meet New People : 97072\n",
      "We Heart It - Fashion, wallpapers, quotes, tattoos : 90414\n",
      "InsTrack for Instagram - Analytics Plus More : 85535\n",
      "Tango - Free Video Call, Voice and Chat : 75412\n",
      "LinkedIn : 71856\n",
      "Match™ - #1 Dating App. : 60659\n",
      "Skype for iPad : 60163\n",
      "POF - Best Dating App for Conversations : 52642\n",
      "Timehop : 49510\n",
      "Find My Family, Friends & iPhone - Life360 Locator : 43877\n",
      "Whisper - Share, Express, Meet : 39819\n",
      "Hangouts : 36404\n",
      "LINE PLAY - Your Avatar World : 34677\n",
      "WeChat : 34584\n",
      "Badoo - Meet New People, Chat, Socialize. : 34428\n",
      "Followers + for Instagram - Follower Analytics : 28633\n",
      "GroupMe : 28260\n",
      "Marco Polo Video Walkie Talkie : 27662\n",
      "Miitomo : 23965\n",
      "SimSimi : 23530\n",
      "Grindr - Gay and same sex guys chat, meet and date : 23201\n",
      "Wishbone - Compare Anything : 20649\n",
      "imo video calls and chat : 18841\n",
      "After School - Funny Anonymous School News : 18482\n",
      "Quick Reposter - Repost, Regram and Reshare Photos : 17694\n",
      "Weibo HD : 16772\n",
      "Repost for Instagram : 15185\n",
      "Live.me – Live Video Chat & Make Friends Nearby : 14724\n",
      "Nextdoor : 14402\n",
      "Followers Analytics for Instagram - InstaReport : 13914\n",
      "YouNow: Live Stream Video Chat : 12079\n",
      "FollowMeter for Instagram - Followers Tracking : 11976\n",
      "LINE : 11437\n",
      "eHarmony™ Dating App - Meet Singles : 11124\n",
      "Discord - Chat for Gamers : 9152\n",
      "QQ : 9109\n",
      "Telegram Messenger : 7573\n",
      "Weibo : 7265\n",
      "Periscope - Live Video Streaming Around the World : 6062\n",
      "Chat for Whatsapp - iPad Version : 5060\n",
      "QQ HD : 5058\n",
      "Followers Analysis Tool For Instagram App Free : 4253\n",
      "live.ly - live video streaming : 4145\n",
      "Houseparty - Group Video Chat : 3991\n",
      "SOMA Messenger : 3232\n",
      "Monkey : 3060\n",
      "Down To Lunch : 2535\n",
      "Flinch - Video Chat Staring Contest : 2134\n",
      "Highrise - Your Avatar Community : 2011\n",
      "LOVOO - Dating Chat : 1985\n",
      "PlayStation®Messages : 1918\n",
      "BOO! - Video chat camera with filters & stickers : 1805\n",
      "Qzone : 1649\n",
      "Chatous - Chat with new people : 1609\n",
      "Kiwi - Q&A : 1538\n",
      "GhostCodes - a discovery app for Snapchat : 1313\n",
      "Jodel : 1193\n",
      "FireChat : 1037\n",
      "Google Duo - simple video calling : 1033\n",
      "Fiesta by Tango - Chat & Meet New People : 885\n",
      "Google Allo — smart messaging : 862\n",
      "Peach — share vividly : 727\n",
      "Hey! VINA - Where Women Meet New Friends : 719\n",
      "Battlefield™ Companion : 689\n",
      "All Devices for WhatsApp - Messenger for iPad : 682\n",
      "Chat for Pokemon Go - GoChat : 500\n",
      "IAmNaughty – Dating App to Meet New People Online : 463\n",
      "Qzone HD : 458\n",
      "Zenly - Locate your friends in realtime : 427\n",
      "League of Legends Friends : 420\n",
      "豆瓣 : 407\n",
      "Candid - Speak Your Mind Freely : 398\n",
      "知乎 : 397\n",
      "Selfeo : 366\n",
      "Fake-A-Location Free ™ : 354\n",
      "Popcorn Buzz - Free Group Calls : 281\n",
      "Fam — Group video calling for iMessage : 279\n",
      "QQ International : 274\n",
      "Ameba : 269\n",
      "SoundCloud Pulse: for creators : 240\n",
      "Tantan : 235\n",
      "Cougar Dating & Life Style App for Mature Women : 213\n",
      "Rawr Messenger - Dab your chat : 180\n",
      "WhenToPost: Best Time to Post Photos for Instagram : 158\n",
      "Inke—Broadcast an amazing life : 147\n",
      "Mustknow - anonymous video Q&A : 53\n",
      "CTFxCmoji : 39\n",
      "Lobi : 36\n",
      "Chain: Collaborate On MyVideo Story/Group Video : 35\n",
      "botman - Real time video chat : 7\n",
      "BestieBox : 0\n",
      "MATCH ON LINE chat : 0\n",
      "niconico ch : 0\n",
      "LINE BLOG : 0\n",
      "bit-tube - Live Stream Video Chat : 0\n"
     ]
    }
   ],
   "source": [
    "for app in final_ios_data:\n",
    "    if app[-5] == 'Social Networking':\n",
    "        print(app[1], ':', app[5])"
   ]
  },
  {
   "cell_type": "markdown",
   "metadata": {},
   "source": [
    "## Most Popular Apps by Genre - Google Play Store ##"
   ]
  },
  {
   "cell_type": "markdown",
   "metadata": {},
   "source": [
    "For the Google Play Store, we can use the installs column:"
   ]
  },
  {
   "cell_type": "code",
   "execution_count": 25,
   "metadata": {
    "collapsed": false
   },
   "outputs": [
    {
     "name": "stdout",
     "output_type": "stream",
     "text": [
      "1,000,000+ : 15.727\n",
      "100,000+ : 11.552\n",
      "10,000,000+ : 10.548\n",
      "10,000+ : 10.199\n",
      "1,000+ : 8.394\n",
      "100+ : 6.916\n",
      "5,000,000+ : 6.825\n",
      "500,000+ : 5.562\n",
      "50,000+ : 4.772\n",
      "5,000+ : 4.513\n",
      "10+ : 3.542\n",
      "500+ : 3.249\n",
      "50,000,000+ : 2.301\n",
      "100,000,000+ : 2.132\n",
      "50+ : 1.918\n",
      "5+ : 0.79\n",
      "1+ : 0.508\n",
      "500,000,000+ : 0.271\n",
      "1,000,000,000+ : 0.226\n",
      "0+ : 0.045\n",
      "0 : 0.011\n"
     ]
    }
   ],
   "source": [
    "display_table(final_google_data, 5)"
   ]
  },
  {
   "cell_type": "code",
   "execution_count": 26,
   "metadata": {
    "collapsed": false
   },
   "outputs": [
    {
     "name": "stdout",
     "output_type": "stream",
     "text": [
      "PRODUCTIVITY : 16787331.344927534\n",
      "ART_AND_DESIGN : 1986335.0877192982\n",
      "COMMUNICATION : 38456119.167247385\n",
      "SHOPPING : 7036877.311557789\n",
      "FINANCE : 1387692.475609756\n",
      "PERSONALIZATION : 5201482.6122448975\n",
      "HEALTH_AND_FITNESS : 4188821.9853479853\n",
      "ENTERTAINMENT : 11640705.88235294\n",
      "TOOLS : 10801391.298666667\n",
      "COMICS : 817657.2727272727\n",
      "BUSINESS : 1712290.1474201474\n",
      "EVENTS : 253542.22222222222\n",
      "BOOKS_AND_REFERENCE : 8767811.894736841\n",
      "MEDICAL : 120550.61980830671\n",
      "SPORTS : 3638640.1428571427\n",
      "BEAUTY : 513151.88679245283\n",
      "LIFESTYLE : 1437816.2687861272\n",
      "MAPS_AND_NAVIGATION : 4056941.7741935486\n",
      "LIBRARIES_AND_DEMO : 638503.734939759\n",
      "SOCIAL : 23253652.127118643\n",
      "FAMILY : 3695641.8198090694\n",
      "WEATHER : 5074486.197183099\n",
      "PHOTOGRAPHY : 17840110.40229885\n",
      "TRAVEL_AND_LOCAL : 13984077.710144928\n",
      "VIDEO_PLAYERS : 24727872.452830188\n",
      "HOUSE_AND_HOME : 1331540.5616438356\n",
      "DATING : 854028.8303030303\n",
      "NEWS_AND_MAGAZINES : 9549178.467741935\n",
      "PARENTING : 542603.6206896552\n",
      "EDUCATION : 1833495.145631068\n",
      "GAME : 15588015.603248259\n",
      "FOOD_AND_DRINK : 1924897.7363636363\n",
      "AUTO_AND_VEHICLES : 647317.8170731707\n"
     ]
    }
   ],
   "source": [
    "google_genres = freq_table(final_google_data, 1)\n",
    "\n",
    "for category in google_genres:\n",
    "    total = 0\n",
    "    len_category = 0\n",
    "    for app in final_google_data:\n",
    "        category_app = app[1]\n",
    "        if category_app == category:            \n",
    "            n_installs = app[5]\n",
    "            n_installs = n_installs.replace(',', '')\n",
    "            n_installs = n_installs.replace('+', '')\n",
    "            total += float(n_installs)\n",
    "            len_category += 1\n",
    "    avg_n_installs = total / len_category\n",
    "    print(category, ':', avg_n_installs)"
   ]
  },
  {
   "cell_type": "markdown",
   "metadata": {},
   "source": [
    "Here it looks like communication has the most installs. Let's explore which apps these are:"
   ]
  },
  {
   "cell_type": "code",
   "execution_count": 27,
   "metadata": {
    "collapsed": false
   },
   "outputs": [
    {
     "name": "stdout",
     "output_type": "stream",
     "text": [
      "WhatsApp Messenger : 1,000,000,000+\n",
      "Messenger – Text and Video Chat for Free : 1,000,000,000+\n",
      "Skype - free IM & video calls : 1,000,000,000+\n",
      "Google Chrome: Fast & Secure : 1,000,000,000+\n",
      "Gmail : 1,000,000,000+\n",
      "Hangouts : 1,000,000,000+\n"
     ]
    }
   ],
   "source": [
    "for app in final_google_data:\n",
    "    if app[1] == 'COMMUNICATION' and (app[5] == '1,000,000,000+'):\n",
    "        print(app[0], ':', app[5])"
   ]
  },
  {
   "cell_type": "markdown",
   "metadata": {
    "collapsed": true
   },
   "source": [
    "Ultimately, a number of very large apps (WhatsApp, Waze, Facebook, etc) tend to dominate their respective genre categories by number of installs."
   ]
  },
  {
   "cell_type": "code",
   "execution_count": null,
   "metadata": {
    "collapsed": true
   },
   "outputs": [],
   "source": []
  }
 ],
 "metadata": {
  "kernelspec": {
   "display_name": "Python 3",
   "language": "python",
   "name": "python3"
  },
  "language_info": {
   "codemirror_mode": {
    "name": "ipython",
    "version": 3
   },
   "file_extension": ".py",
   "mimetype": "text/x-python",
   "name": "python",
   "nbconvert_exporter": "python",
   "pygments_lexer": "ipython3",
   "version": "3.4.3"
  }
 },
 "nbformat": 4,
 "nbformat_minor": 2
}
